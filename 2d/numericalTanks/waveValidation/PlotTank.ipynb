{
 "cells": [
  {
   "cell_type": "code",
   "execution_count": 38,
   "metadata": {
    "collapsed": false,
    "deletable": true,
    "editable": true
   },
   "outputs": [
    {
     "data": {
      "image/png": "[encoded data removed]",
      "text/plain": [
       "<matplotlib.figure.Figure at 0x7f41358578d0>"
      ]
     },
     "metadata": {},
     "output_type": "display_data"
    }
   ],
   "source": [
    "from matplotlib import pyplot as  plt\n",
    "from matplotlib.patches import Rectangle\n",
    "from numpy import arange, sin, pi\n",
    "import wave_validation\n",
    "reload(wave_validation)\n",
    "\n",
    "L=wave_validation.tank_dim\n",
    "d=wave_validation.depth\n",
    "axpt=[0.1,0.1]\n",
    "t=arange(axpt[0],L[0]+axpt[0],0.005)\n",
    "a=0.025\n",
    "\n",
    "plt.figure(1)\n",
    "currentAxis = plt.gca()\n",
    "currentAxis.add_patch(Rectangle((axpt[0], axpt[1]), L[0], L[1],fill=False))\n",
    "plt.axis(\"auto\")\n",
    "plt.plot(t, a*sin(((2*pi)/5)*t)+d)\n",
    "\n",
    "for i in range(len(wave_validation.point_gauge_locations)):\n",
    "    plt.plot(wave_validation.point_gauge_locations[i][0]+axpt[0],wave_validation.point_gauge_locations[i][1]+axpt[1],'ro')\n",
    "    \n",
    "plt.show()\n"
   ]
  },
  {
   "cell_type": "code",
   "execution_count": null,
   "metadata": {
    "collapsed": true,
    "deletable": true,
    "editable": true
   },
   "outputs": [],
   "source": []
  }
 ],
 "metadata": {
  "kernelspec": {
   "display_name": "Python 2",
   "language": "python",
   "name": "python2"
  },
  "language_info": {
   "codemirror_mode": {
    "name": "ipython",
    "version": 2
   },
   "file_extension": ".py",
   "mimetype": "text/x-python",
   "name": "python",
   "nbconvert_exporter": "python",
   "pygments_lexer": "ipython2",
   "version": "2.7.11"
  }
 },
 "nbformat": 4,
 "nbformat_minor": 2
}
