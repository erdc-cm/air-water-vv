{
 "cells": [
  {
   "cell_type": "code",
   "execution_count": 4,
   "metadata": {
    "collapsed": false
   },
   "outputs": [
    {
     "data": {
      "application/vnd.jupyter.widget-view+json": {
       "model_id": "a834dfab699c42cfb9ac5852500d7c95"
      }
     },
     "metadata": {},
     "output_type": "display_data"
    }
   ],
   "source": [
    "from pythreejs import *\n",
    "from IPython.display import display\n",
    "import sys, os, random, time\n",
    "from math import *\n",
    "\n",
    "def draw_sphere(c,r):\n",
    "    \"\"\"Draw an DEM Sphere\n",
    "    \"\"\"\n",
    "    widget = Mesh(geometry=SphereGeometry(radius=r),\n",
    "                  material=LambertMaterial(color='red'),\n",
    "                  position=[c[0],c[2],c[1]])\n",
    "    return widget\n",
    "\n",
    "\n",
    "x = 0\n",
    "y = 0\n",
    "width = 640\n",
    "height = 480\n",
    "\n",
    "spheres =[]\n",
    "\n",
    "# Some variables used inside the simulation loop\n",
    "fps = 20\n",
    "dt = 1.0/fps\n",
    "running = True\n",
    "state = 0\n",
    "counter = 0\n",
    "objcount = 0\n",
    "lasttime = time.time()\n",
    "from DEM import DEM\n",
    "dem=DEM(\"two_particles.yaml\")\n",
    "import numpy as np\n",
    "F=np.zeros((2,3),'d')\n",
    "M=np.zeros((2,3),'d')\n",
    "dem.step(F,M,dt)\n",
    "\n",
    "for c,r in zip(dem.get_center_array(),dem.get_radius_array()):\n",
    "    spheres.append(draw_sphere(c,r))\n",
    "\n",
    "scene = Scene(children=spheres)\n",
    "c = PerspectiveCamera(position=[0,0,7], up=[0,1,0], children=[DirectionalLight(color='white', \n",
    "                                                                             position=[3,5,1], \n",
    "                                                                             intensity=0.5)])\n",
    "renderer = Renderer(camera=c, scene = scene, controls=[OrbitControls(controlling=c)])\n",
    "ar = float(renderer.height)/float(renderer.width)\n",
    "renderer.width = u'600'\n",
    "renderer.height = `ar*600`\n",
    "display(renderer)\n",
    "lasttime = time.time()\n",
    "for i in range(299):\n",
    "    t = dt - (time.time() - lasttime)\n",
    "    if (t > 0):\n",
    "        time.sleep(t)\n",
    "        dem.step(F,M,dt)\n",
    "        for c,widget in zip(dem.get_center_array(),spheres):\n",
    "            widget.position=(c[0],c[2],c[1])\n",
    "    lasttime = time.time()"
   ]
  },
  {
   "cell_type": "code",
   "execution_count": null,
   "metadata": {
    "collapsed": true
   },
   "outputs": [],
   "source": []
  }
 ],
 "metadata": {
  "kernelspec": {
   "display_name": "Python 2",
   "language": "python",
   "name": "python2"
  },
  "language_info": {
   "codemirror_mode": {
    "name": "ipython",
    "version": 2
   },
   "file_extension": ".py",
   "mimetype": "text/x-python",
   "name": "python",
   "nbconvert_exporter": "python",
   "pygments_lexer": "ipython2",
   "version": "2.7.11"
  },
  "widgets": {
   "state": {
    "0060058f34164dbebd6f5926aa9799be": {
     "views": [
      {
       "cell_index": 0
      }
     ]
    }
   },
   "version": "1.2.0"
  }
 },
 "nbformat": 4,
 "nbformat_minor": 0
}
